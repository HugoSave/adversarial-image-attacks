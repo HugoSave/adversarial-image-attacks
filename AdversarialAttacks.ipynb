{
  "nbformat": 4,
  "nbformat_minor": 0,
  "metadata": {
    "colab": {
      "provenance": [],
      "gpuType": "T4",
      "authorship_tag": "ABX9TyP78JLBqZOn7Wp74XJbyhDx",
      "include_colab_link": true
    },
    "kernelspec": {
      "name": "python3",
      "display_name": "Python 3"
    },
    "language_info": {
      "name": "python"
    },
    "accelerator": "GPU"
  },
  "cells": [
    {
      "cell_type": "markdown",
      "metadata": {
        "id": "view-in-github",
        "colab_type": "text"
      },
      "source": [
        "<a href=\"https://colab.research.google.com/github/HugoSave/adversarial-image-attacks/blob/main/AdversarialAttacks.ipynb\" target=\"_parent\"><img src=\"https://colab.research.google.com/assets/colab-badge.svg\" alt=\"Open In Colab\"/></a>"
      ]
    },
    {
      "cell_type": "code",
      "source": [
        "!pip install torch torchvision timm detectors matplotlib numpy einops pandas seaborn\n",
        "\n",
        "\n",
        "import torch\n",
        "import torch.nn as nn\n",
        "import torchvision.datasets as datasets\n",
        "import torchvision.transforms as transforms\n",
        "from torch.utils.data import DataLoader, TensorDataset, Dataset\n",
        "import matplotlib.pyplot as plt\n",
        "import numpy as np\n",
        "import pandas as pd\n",
        "import seaborn as sns\n",
        "from dataclasses import dataclass\n",
        "import einops\n",
        "\n",
        "\n",
        "import detectors # includes models needed for timm\n",
        "import timm\n",
        "import os\n",
        "\n",
        "device = torch.device(\"cuda\" if torch.cuda.is_available() else \"cpu\")"
      ],
      "metadata": {
        "colab": {
          "base_uri": "https://localhost:8080/"
        },
        "id": "of5bngaT60jw",
        "outputId": "61d45fb9-ca40-49bd-de37-02344b32d3da"
      },
      "execution_count": 1,
      "outputs": [
        {
          "output_type": "stream",
          "name": "stdout",
          "text": [
            "Requirement already satisfied: torch in /usr/local/lib/python3.11/dist-packages (2.6.0+cu124)\n",
            "Requirement already satisfied: torchvision in /usr/local/lib/python3.11/dist-packages (0.21.0+cu124)\n",
            "Requirement already satisfied: timm in /usr/local/lib/python3.11/dist-packages (1.0.15)\n",
            "Collecting detectors\n",
            "  Downloading detectors-0.1.11-py3-none-any.whl.metadata (9.3 kB)\n",
            "Requirement already satisfied: matplotlib in /usr/local/lib/python3.11/dist-packages (3.10.0)\n",
            "Requirement already satisfied: numpy in /usr/local/lib/python3.11/dist-packages (2.0.2)\n",
            "Requirement already satisfied: einops in /usr/local/lib/python3.11/dist-packages (0.8.1)\n",
            "Requirement already satisfied: pandas in /usr/local/lib/python3.11/dist-packages (2.2.2)\n",
            "Requirement already satisfied: seaborn in /usr/local/lib/python3.11/dist-packages (0.13.2)\n",
            "Requirement already satisfied: filelock in /usr/local/lib/python3.11/dist-packages (from torch) (3.18.0)\n",
            "Requirement already satisfied: typing-extensions>=4.10.0 in /usr/local/lib/python3.11/dist-packages (from torch) (4.13.2)\n",
            "Requirement already satisfied: networkx in /usr/local/lib/python3.11/dist-packages (from torch) (3.4.2)\n",
            "Requirement already satisfied: jinja2 in /usr/local/lib/python3.11/dist-packages (from torch) (3.1.6)\n",
            "Requirement already satisfied: fsspec in /usr/local/lib/python3.11/dist-packages (from torch) (2025.3.2)\n",
            "Collecting nvidia-cuda-nvrtc-cu12==12.4.127 (from torch)\n",
            "  Downloading nvidia_cuda_nvrtc_cu12-12.4.127-py3-none-manylinux2014_x86_64.whl.metadata (1.5 kB)\n",
            "Collecting nvidia-cuda-runtime-cu12==12.4.127 (from torch)\n",
            "  Downloading nvidia_cuda_runtime_cu12-12.4.127-py3-none-manylinux2014_x86_64.whl.metadata (1.5 kB)\n",
            "Collecting nvidia-cuda-cupti-cu12==12.4.127 (from torch)\n",
            "  Downloading nvidia_cuda_cupti_cu12-12.4.127-py3-none-manylinux2014_x86_64.whl.metadata (1.6 kB)\n",
            "Collecting nvidia-cudnn-cu12==9.1.0.70 (from torch)\n",
            "  Downloading nvidia_cudnn_cu12-9.1.0.70-py3-none-manylinux2014_x86_64.whl.metadata (1.6 kB)\n",
            "Collecting nvidia-cublas-cu12==12.4.5.8 (from torch)\n",
            "  Downloading nvidia_cublas_cu12-12.4.5.8-py3-none-manylinux2014_x86_64.whl.metadata (1.5 kB)\n",
            "Collecting nvidia-cufft-cu12==11.2.1.3 (from torch)\n",
            "  Downloading nvidia_cufft_cu12-11.2.1.3-py3-none-manylinux2014_x86_64.whl.metadata (1.5 kB)\n",
            "Collecting nvidia-curand-cu12==10.3.5.147 (from torch)\n",
            "  Downloading nvidia_curand_cu12-10.3.5.147-py3-none-manylinux2014_x86_64.whl.metadata (1.5 kB)\n",
            "Collecting nvidia-cusolver-cu12==11.6.1.9 (from torch)\n",
            "  Downloading nvidia_cusolver_cu12-11.6.1.9-py3-none-manylinux2014_x86_64.whl.metadata (1.6 kB)\n",
            "Collecting nvidia-cusparse-cu12==12.3.1.170 (from torch)\n",
            "  Downloading nvidia_cusparse_cu12-12.3.1.170-py3-none-manylinux2014_x86_64.whl.metadata (1.6 kB)\n",
            "Requirement already satisfied: nvidia-cusparselt-cu12==0.6.2 in /usr/local/lib/python3.11/dist-packages (from torch) (0.6.2)\n",
            "Requirement already satisfied: nvidia-nccl-cu12==2.21.5 in /usr/local/lib/python3.11/dist-packages (from torch) (2.21.5)\n",
            "Requirement already satisfied: nvidia-nvtx-cu12==12.4.127 in /usr/local/lib/python3.11/dist-packages (from torch) (12.4.127)\n",
            "Collecting nvidia-nvjitlink-cu12==12.4.127 (from torch)\n",
            "  Downloading nvidia_nvjitlink_cu12-12.4.127-py3-none-manylinux2014_x86_64.whl.metadata (1.5 kB)\n",
            "Requirement already satisfied: triton==3.2.0 in /usr/local/lib/python3.11/dist-packages (from torch) (3.2.0)\n",
            "Requirement already satisfied: sympy==1.13.1 in /usr/local/lib/python3.11/dist-packages (from torch) (1.13.1)\n",
            "Requirement already satisfied: mpmath<1.4,>=1.1.0 in /usr/local/lib/python3.11/dist-packages (from sympy==1.13.1->torch) (1.3.0)\n",
            "Requirement already satisfied: pillow!=8.3.*,>=5.3.0 in /usr/local/lib/python3.11/dist-packages (from torchvision) (11.2.1)\n",
            "Requirement already satisfied: pyyaml in /usr/local/lib/python3.11/dist-packages (from timm) (6.0.2)\n",
            "Requirement already satisfied: huggingface_hub in /usr/local/lib/python3.11/dist-packages (from timm) (0.31.4)\n",
            "Requirement already satisfied: safetensors in /usr/local/lib/python3.11/dist-packages (from timm) (0.5.3)\n",
            "Collecting optuna (from detectors)\n",
            "  Downloading optuna-4.3.0-py3-none-any.whl.metadata (17 kB)\n",
            "Requirement already satisfied: scikit-learn in /usr/local/lib/python3.11/dist-packages (from detectors) (1.6.1)\n",
            "Requirement already satisfied: scikit-image in /usr/local/lib/python3.11/dist-packages (from detectors) (0.25.2)\n",
            "Requirement already satisfied: tqdm in /usr/local/lib/python3.11/dist-packages (from detectors) (4.67.1)\n",
            "Requirement already satisfied: scipy in /usr/local/lib/python3.11/dist-packages (from detectors) (1.15.3)\n",
            "Requirement already satisfied: accelerate in /usr/local/lib/python3.11/dist-packages (from detectors) (1.7.0)\n",
            "Requirement already satisfied: psutil in /usr/local/lib/python3.11/dist-packages (from detectors) (5.9.5)\n",
            "Collecting wilds (from detectors)\n",
            "  Downloading wilds-2.0.0-py3-none-any.whl.metadata (22 kB)\n",
            "Collecting faiss-cpu (from detectors)\n",
            "  Downloading faiss_cpu-1.11.0-cp311-cp311-manylinux_2_28_x86_64.whl.metadata (4.8 kB)\n",
            "Requirement already satisfied: contourpy>=1.0.1 in /usr/local/lib/python3.11/dist-packages (from matplotlib) (1.3.2)\n",
            "Requirement already satisfied: cycler>=0.10 in /usr/local/lib/python3.11/dist-packages (from matplotlib) (0.12.1)\n",
            "Requirement already satisfied: fonttools>=4.22.0 in /usr/local/lib/python3.11/dist-packages (from matplotlib) (4.58.0)\n",
            "Requirement already satisfied: kiwisolver>=1.3.1 in /usr/local/lib/python3.11/dist-packages (from matplotlib) (1.4.8)\n",
            "Requirement already satisfied: packaging>=20.0 in /usr/local/lib/python3.11/dist-packages (from matplotlib) (24.2)\n",
            "Requirement already satisfied: pyparsing>=2.3.1 in /usr/local/lib/python3.11/dist-packages (from matplotlib) (3.2.3)\n",
            "Requirement already satisfied: python-dateutil>=2.7 in /usr/local/lib/python3.11/dist-packages (from matplotlib) (2.9.0.post0)\n",
            "Requirement already satisfied: pytz>=2020.1 in /usr/local/lib/python3.11/dist-packages (from pandas) (2025.2)\n",
            "Requirement already satisfied: tzdata>=2022.7 in /usr/local/lib/python3.11/dist-packages (from pandas) (2025.2)\n",
            "Requirement already satisfied: six>=1.5 in /usr/local/lib/python3.11/dist-packages (from python-dateutil>=2.7->matplotlib) (1.17.0)\n",
            "Requirement already satisfied: requests in /usr/local/lib/python3.11/dist-packages (from huggingface_hub->timm) (2.32.3)\n",
            "Requirement already satisfied: MarkupSafe>=2.0 in /usr/local/lib/python3.11/dist-packages (from jinja2->torch) (3.0.2)\n",
            "Collecting alembic>=1.5.0 (from optuna->detectors)\n",
            "  Downloading alembic-1.16.1-py3-none-any.whl.metadata (7.3 kB)\n",
            "Collecting colorlog (from optuna->detectors)\n",
            "  Downloading colorlog-6.9.0-py3-none-any.whl.metadata (10 kB)\n",
            "Requirement already satisfied: sqlalchemy>=1.4.2 in /usr/local/lib/python3.11/dist-packages (from optuna->detectors) (2.0.41)\n",
            "Requirement already satisfied: imageio!=2.35.0,>=2.33 in /usr/local/lib/python3.11/dist-packages (from scikit-image->detectors) (2.37.0)\n",
            "Requirement already satisfied: tifffile>=2022.8.12 in /usr/local/lib/python3.11/dist-packages (from scikit-image->detectors) (2025.5.21)\n",
            "Requirement already satisfied: lazy-loader>=0.4 in /usr/local/lib/python3.11/dist-packages (from scikit-image->detectors) (0.4)\n",
            "Requirement already satisfied: joblib>=1.2.0 in /usr/local/lib/python3.11/dist-packages (from scikit-learn->detectors) (1.5.0)\n",
            "Requirement already satisfied: threadpoolctl>=3.1.0 in /usr/local/lib/python3.11/dist-packages (from scikit-learn->detectors) (3.6.0)\n",
            "Collecting ogb>=1.2.6 (from wilds->detectors)\n",
            "  Downloading ogb-1.3.6-py3-none-any.whl.metadata (6.2 kB)\n",
            "Collecting outdated>=0.2.0 (from wilds->detectors)\n",
            "  Downloading outdated-0.2.2-py2.py3-none-any.whl.metadata (4.7 kB)\n",
            "Requirement already satisfied: Mako in /usr/lib/python3/dist-packages (from alembic>=1.5.0->optuna->detectors) (1.1.3)\n",
            "Requirement already satisfied: urllib3>=1.24.0 in /usr/local/lib/python3.11/dist-packages (from ogb>=1.2.6->wilds->detectors) (2.4.0)\n",
            "Requirement already satisfied: setuptools>=44 in /usr/local/lib/python3.11/dist-packages (from outdated>=0.2.0->wilds->detectors) (75.2.0)\n",
            "Collecting littleutils (from outdated>=0.2.0->wilds->detectors)\n",
            "  Downloading littleutils-0.2.4-py3-none-any.whl.metadata (679 bytes)\n",
            "Requirement already satisfied: greenlet>=1 in /usr/local/lib/python3.11/dist-packages (from sqlalchemy>=1.4.2->optuna->detectors) (3.2.2)\n",
            "Requirement already satisfied: charset-normalizer<4,>=2 in /usr/local/lib/python3.11/dist-packages (from requests->huggingface_hub->timm) (3.4.2)\n",
            "Requirement already satisfied: idna<4,>=2.5 in /usr/local/lib/python3.11/dist-packages (from requests->huggingface_hub->timm) (3.10)\n",
            "Requirement already satisfied: certifi>=2017.4.17 in /usr/local/lib/python3.11/dist-packages (from requests->huggingface_hub->timm) (2025.4.26)\n",
            "Downloading nvidia_cublas_cu12-12.4.5.8-py3-none-manylinux2014_x86_64.whl (363.4 MB)\n",
            "\u001b[2K   \u001b[90m━━━━━━━━━━━━━━━━━━━━━━━━━━━━━━━━━━━━━━━━\u001b[0m \u001b[32m363.4/363.4 MB\u001b[0m \u001b[31m4.4 MB/s\u001b[0m eta \u001b[36m0:00:00\u001b[0m\n",
            "\u001b[?25hDownloading nvidia_cuda_cupti_cu12-12.4.127-py3-none-manylinux2014_x86_64.whl (13.8 MB)\n",
            "\u001b[2K   \u001b[90m━━━━━━━━━━━━━━━━━━━━━━━━━━━━━━━━━━━━━━━━\u001b[0m \u001b[32m13.8/13.8 MB\u001b[0m \u001b[31m74.6 MB/s\u001b[0m eta \u001b[36m0:00:00\u001b[0m\n",
            "\u001b[?25hDownloading nvidia_cuda_nvrtc_cu12-12.4.127-py3-none-manylinux2014_x86_64.whl (24.6 MB)\n",
            "\u001b[2K   \u001b[90m━━━━━━━━━━━━━━━━━━━━━━━━━━━━━━━━━━━━━━━━\u001b[0m \u001b[32m24.6/24.6 MB\u001b[0m \u001b[31m60.2 MB/s\u001b[0m eta \u001b[36m0:00:00\u001b[0m\n",
            "\u001b[?25hDownloading nvidia_cuda_runtime_cu12-12.4.127-py3-none-manylinux2014_x86_64.whl (883 kB)\n",
            "\u001b[2K   \u001b[90m━━━━━━━━━━━━━━━━━━━━━━━━━━━━━━━━━━━━━━━━\u001b[0m \u001b[32m883.7/883.7 kB\u001b[0m \u001b[31m48.3 MB/s\u001b[0m eta \u001b[36m0:00:00\u001b[0m\n",
            "\u001b[?25hDownloading nvidia_cudnn_cu12-9.1.0.70-py3-none-manylinux2014_x86_64.whl (664.8 MB)\n",
            "\u001b[2K   \u001b[90m━━━━━━━━━━━━━━━━━━━━━━━━━━━━━━━━━━━━━━━━\u001b[0m \u001b[32m664.8/664.8 MB\u001b[0m \u001b[31m1.8 MB/s\u001b[0m eta \u001b[36m0:00:00\u001b[0m\n",
            "\u001b[?25hDownloading nvidia_cufft_cu12-11.2.1.3-py3-none-manylinux2014_x86_64.whl (211.5 MB)\n",
            "\u001b[2K   \u001b[90m━━━━━━━━━━━━━━━━━━━━━━━━━━━━━━━━━━━━━━━━\u001b[0m \u001b[32m211.5/211.5 MB\u001b[0m \u001b[31m5.4 MB/s\u001b[0m eta \u001b[36m0:00:00\u001b[0m\n",
            "\u001b[?25hDownloading nvidia_curand_cu12-10.3.5.147-py3-none-manylinux2014_x86_64.whl (56.3 MB)\n",
            "\u001b[2K   \u001b[90m━━━━━━━━━━━━━━━━━━━━━━━━━━━━━━━━━━━━━━━━\u001b[0m \u001b[32m56.3/56.3 MB\u001b[0m \u001b[31m11.4 MB/s\u001b[0m eta \u001b[36m0:00:00\u001b[0m\n",
            "\u001b[?25hDownloading nvidia_cusolver_cu12-11.6.1.9-py3-none-manylinux2014_x86_64.whl (127.9 MB)\n",
            "\u001b[2K   \u001b[90m━━━━━━━━━━━━━━━━━━━━━━━━━━━━━━━━━━━━━━━━\u001b[0m \u001b[32m127.9/127.9 MB\u001b[0m \u001b[31m7.9 MB/s\u001b[0m eta \u001b[36m0:00:00\u001b[0m\n",
            "\u001b[?25hDownloading nvidia_cusparse_cu12-12.3.1.170-py3-none-manylinux2014_x86_64.whl (207.5 MB)\n",
            "\u001b[2K   \u001b[90m━━━━━━━━━━━━━━━━━━━━━━━━━━━━━━━━━━━━━━━━\u001b[0m \u001b[32m207.5/207.5 MB\u001b[0m \u001b[31m5.7 MB/s\u001b[0m eta \u001b[36m0:00:00\u001b[0m\n",
            "\u001b[?25hDownloading nvidia_nvjitlink_cu12-12.4.127-py3-none-manylinux2014_x86_64.whl (21.1 MB)\n",
            "\u001b[2K   \u001b[90m━━━━━━━━━━━━━━━━━━━━━━━━━━━━━━━━━━━━━━━━\u001b[0m \u001b[32m21.1/21.1 MB\u001b[0m \u001b[31m72.5 MB/s\u001b[0m eta \u001b[36m0:00:00\u001b[0m\n",
            "\u001b[?25hDownloading detectors-0.1.11-py3-none-any.whl (616 kB)\n",
            "\u001b[2K   \u001b[90m━━━━━━━━━━━━━━━━━━━━━━━━━━━━━━━━━━━━━━━━\u001b[0m \u001b[32m616.8/616.8 kB\u001b[0m \u001b[31m41.3 MB/s\u001b[0m eta \u001b[36m0:00:00\u001b[0m\n",
            "\u001b[?25hDownloading faiss_cpu-1.11.0-cp311-cp311-manylinux_2_28_x86_64.whl (31.3 MB)\n",
            "\u001b[2K   \u001b[90m━━━━━━━━━━━━━━━━━━━━━━━━━━━━━━━━━━━━━━━━\u001b[0m \u001b[32m31.3/31.3 MB\u001b[0m \u001b[31m18.2 MB/s\u001b[0m eta \u001b[36m0:00:00\u001b[0m\n",
            "\u001b[?25hDownloading optuna-4.3.0-py3-none-any.whl (386 kB)\n",
            "\u001b[2K   \u001b[90m━━━━━━━━━━━━━━━━━━━━━━━━━━━━━━━━━━━━━━━━\u001b[0m \u001b[32m386.6/386.6 kB\u001b[0m \u001b[31m33.4 MB/s\u001b[0m eta \u001b[36m0:00:00\u001b[0m\n",
            "\u001b[?25hDownloading wilds-2.0.0-py3-none-any.whl (126 kB)\n",
            "\u001b[2K   \u001b[90m━━━━━━━━━━━━━━━━━━━━━━━━━━━━━━━━━━━━━━━━\u001b[0m \u001b[32m126.2/126.2 kB\u001b[0m \u001b[31m12.4 MB/s\u001b[0m eta \u001b[36m0:00:00\u001b[0m\n",
            "\u001b[?25hDownloading alembic-1.16.1-py3-none-any.whl (242 kB)\n",
            "\u001b[2K   \u001b[90m━━━━━━━━━━━━━━━━━━━━━━━━━━━━━━━━━━━━━━━━\u001b[0m \u001b[32m242.5/242.5 kB\u001b[0m \u001b[31m23.0 MB/s\u001b[0m eta \u001b[36m0:00:00\u001b[0m\n",
            "\u001b[?25hDownloading ogb-1.3.6-py3-none-any.whl (78 kB)\n",
            "\u001b[2K   \u001b[90m━━━━━━━━━━━━━━━━━━━━━━━━━━━━━━━━━━━━━━━━\u001b[0m \u001b[32m78.8/78.8 kB\u001b[0m \u001b[31m7.3 MB/s\u001b[0m eta \u001b[36m0:00:00\u001b[0m\n",
            "\u001b[?25hDownloading outdated-0.2.2-py2.py3-none-any.whl (7.5 kB)\n",
            "Downloading colorlog-6.9.0-py3-none-any.whl (11 kB)\n",
            "Downloading littleutils-0.2.4-py3-none-any.whl (8.1 kB)\n",
            "Installing collected packages: nvidia-nvjitlink-cu12, nvidia-curand-cu12, nvidia-cufft-cu12, nvidia-cuda-runtime-cu12, nvidia-cuda-nvrtc-cu12, nvidia-cuda-cupti-cu12, nvidia-cublas-cu12, littleutils, faiss-cpu, colorlog, outdated, nvidia-cusparse-cu12, nvidia-cudnn-cu12, alembic, optuna, nvidia-cusolver-cu12, ogb, wilds, detectors\n",
            "  Attempting uninstall: nvidia-nvjitlink-cu12\n",
            "    Found existing installation: nvidia-nvjitlink-cu12 12.5.82\n",
            "    Uninstalling nvidia-nvjitlink-cu12-12.5.82:\n",
            "      Successfully uninstalled nvidia-nvjitlink-cu12-12.5.82\n",
            "  Attempting uninstall: nvidia-curand-cu12\n",
            "    Found existing installation: nvidia-curand-cu12 10.3.6.82\n",
            "    Uninstalling nvidia-curand-cu12-10.3.6.82:\n",
            "      Successfully uninstalled nvidia-curand-cu12-10.3.6.82\n",
            "  Attempting uninstall: nvidia-cufft-cu12\n",
            "    Found existing installation: nvidia-cufft-cu12 11.2.3.61\n",
            "    Uninstalling nvidia-cufft-cu12-11.2.3.61:\n",
            "      Successfully uninstalled nvidia-cufft-cu12-11.2.3.61\n",
            "  Attempting uninstall: nvidia-cuda-runtime-cu12\n",
            "    Found existing installation: nvidia-cuda-runtime-cu12 12.5.82\n",
            "    Uninstalling nvidia-cuda-runtime-cu12-12.5.82:\n",
            "      Successfully uninstalled nvidia-cuda-runtime-cu12-12.5.82\n",
            "  Attempting uninstall: nvidia-cuda-nvrtc-cu12\n",
            "    Found existing installation: nvidia-cuda-nvrtc-cu12 12.5.82\n",
            "    Uninstalling nvidia-cuda-nvrtc-cu12-12.5.82:\n",
            "      Successfully uninstalled nvidia-cuda-nvrtc-cu12-12.5.82\n",
            "  Attempting uninstall: nvidia-cuda-cupti-cu12\n",
            "    Found existing installation: nvidia-cuda-cupti-cu12 12.5.82\n",
            "    Uninstalling nvidia-cuda-cupti-cu12-12.5.82:\n",
            "      Successfully uninstalled nvidia-cuda-cupti-cu12-12.5.82\n",
            "  Attempting uninstall: nvidia-cublas-cu12\n",
            "    Found existing installation: nvidia-cublas-cu12 12.5.3.2\n",
            "    Uninstalling nvidia-cublas-cu12-12.5.3.2:\n",
            "      Successfully uninstalled nvidia-cublas-cu12-12.5.3.2\n",
            "  Attempting uninstall: nvidia-cusparse-cu12\n",
            "    Found existing installation: nvidia-cusparse-cu12 12.5.1.3\n",
            "    Uninstalling nvidia-cusparse-cu12-12.5.1.3:\n",
            "      Successfully uninstalled nvidia-cusparse-cu12-12.5.1.3\n",
            "  Attempting uninstall: nvidia-cudnn-cu12\n",
            "    Found existing installation: nvidia-cudnn-cu12 9.3.0.75\n",
            "    Uninstalling nvidia-cudnn-cu12-9.3.0.75:\n",
            "      Successfully uninstalled nvidia-cudnn-cu12-9.3.0.75\n",
            "  Attempting uninstall: nvidia-cusolver-cu12\n",
            "    Found existing installation: nvidia-cusolver-cu12 11.6.3.83\n",
            "    Uninstalling nvidia-cusolver-cu12-11.6.3.83:\n",
            "      Successfully uninstalled nvidia-cusolver-cu12-11.6.3.83\n",
            "Successfully installed alembic-1.16.1 colorlog-6.9.0 detectors-0.1.11 faiss-cpu-1.11.0 littleutils-0.2.4 nvidia-cublas-cu12-12.4.5.8 nvidia-cuda-cupti-cu12-12.4.127 nvidia-cuda-nvrtc-cu12-12.4.127 nvidia-cuda-runtime-cu12-12.4.127 nvidia-cudnn-cu12-9.1.0.70 nvidia-cufft-cu12-11.2.1.3 nvidia-curand-cu12-10.3.5.147 nvidia-cusolver-cu12-11.6.1.9 nvidia-cusparse-cu12-12.3.1.170 nvidia-nvjitlink-cu12-12.4.127 ogb-1.3.6 optuna-4.3.0 outdated-0.2.2 wilds-2.0.0\n"
          ]
        }
      ]
    },
    {
      "cell_type": "code",
      "source": [
        "@dataclass\n",
        "class ModelConfig:\n",
        "    name: str\n",
        "    model: nn.Module\n",
        "\n",
        "    def __repr__(self):\n",
        "        return f\"ModelConfig(name='{self.name}', model={self.model})\""
      ],
      "metadata": {
        "id": "aQbEJSAhAIsP"
      },
      "execution_count": 4,
      "outputs": []
    },
    {
      "cell_type": "code",
      "execution_count": 5,
      "metadata": {
        "colab": {
          "base_uri": "https://localhost:8080/"
        },
        "collapsed": true,
        "id": "CYJVXY_C2PV-",
        "outputId": "de14d14a-0b11-4ca3-d338-859f007a4c9c"
      },
      "outputs": [
        {
          "output_type": "stream",
          "name": "stderr",
          "text": [
            "Downloading: \"https://huggingface.co/edadaltocg/resnet18_cifar10/resolve/main/pytorch_model.bin\" to /root/.cache/torch/hub/checkpoints/resnet18_cifar10.pth\n",
            "100%|██████████| 42.7M/42.7M [00:00<00:00, 148MB/s]\n",
            "Downloading: \"https://huggingface.co/edadaltocg/vgg16_bn_cifar10/resolve/main/pytorch_model.bin\" to /root/.cache/torch/hub/checkpoints/vgg16_bn_cifar10.pth\n",
            "100%|██████████| 56.2M/56.2M [00:00<00:00, 86.4MB/s]\n"
          ]
        }
      ],
      "source": [
        "# Create models with pretrained weights from timm\n",
        "# https://huggingface.co/edadaltocg/resnet18_cifar10\n",
        "resnet18_cifar10 = timm.create_model(\"resnet18_cifar10\", pretrained=True).to(device)\n",
        "# https://huggingface.co/edadaltocg/vgg16_bn_cifar10\n",
        "vgg16_bn_cifar10 = timm.create_model(\"vgg16_bn_cifar10\", pretrained=True).to(device)\n",
        "\n",
        "# Store in list of model configs\n",
        "models_list = [\n",
        "    ModelConfig(name=\"resnet18_cifar10\", model=resnet18_cifar10),\n",
        "    ModelConfig(name=\"vgg16_bn_cifar10\", model=vgg16_bn_cifar10)\n",
        "]\n",
        "example_model = models_list[0] # used illustratively throughout the notebook\n",
        "\n"
      ]
    },
    {
      "cell_type": "markdown",
      "source": [
        "With the models loaded into a list of dicationary, we can now load the test set containing images that we later will be performing the adversarial attacks on. For test set we are using cifar10 which our models have already been trained on. We do this to have comparatively similar accuracies between the two models. This will make the adversarial performance losses more comparable between models."
      ],
      "metadata": {
        "id": "V9JpF7Bp4s8m"
      }
    },
    {
      "cell_type": "code",
      "source": [
        "CIFAR10_MEAN = torch.tensor([0.4914, 0.4822, 0.4465])\n",
        "CIFAR10_STD = torch.tensor([0.2470, 0.2435, 0.2616])\n",
        "\n",
        "def get_normalized_cifar10_dataset(root=\"./data\", train=False, device=device):\n",
        "    \"\"\"\n",
        "    Returns a DataLoader for CIFAR-10 dataset with standard transforms.\n",
        "\n",
        "    Args:\n",
        "        root (str): Root directory where the CIFAR-10 dataset will be stored or is already stored.\n",
        "\n",
        "        train (bool): Whether to load the training set or test set.\n",
        "    Returns:\n",
        "        DataLoader: timm dataset of cifar10 dataset. Elements are tuples of (image, label).\n",
        "        image is a torch.Tensor of shape (3, 32, 32) and label is an int.\n",
        "    \"\"\"\n",
        "\n",
        "    # we normalize\n",
        "    transform = transforms.Compose([\n",
        "        transforms.ToTensor(),\n",
        "        transforms.Normalize(CIFAR10_MEAN, CIFAR10_STD),\n",
        "    ])\n",
        "\n",
        "    return datasets.CIFAR10(root=root, train=train, download=True, transform=transform)\n",
        "\n",
        "def create_balanced_subset(dataset, num_samples_per_class=100, seed=42):\n",
        "    \"\"\"\n",
        "    Creates a balanced subset from a classification dataset with a .targets attribute.\n",
        "\n",
        "    Note that the dataset is not shuffled afterwards but sorted by label.\n",
        "\n",
        "    Args:\n",
        "        dataset: A pytorch dataset with a .targets attribute.\n",
        "        num_samples_per_class (int): Number of samples to include per class.\n",
        "        seed (int): Random seed for sampling from the classes.\n",
        "\n",
        "    Returns:\n",
        "        Subset: A torch.utils.data.Subset containing a balanced subset of the dataset.\n",
        "    \"\"\"\n",
        "    np.random.seed(seed)\n",
        "\n",
        "    targets = np.array(dataset.targets)\n",
        "    num_classes = len(set(targets)) # set removes duplicated\n",
        "\n",
        "    class_indices = {class_id: [] for class_id in range(num_classes)} # build dict to store which dataset indices each target label exists at\n",
        "\n",
        "    # Collect indices for each class\n",
        "    for idx, label in enumerate(targets):\n",
        "        class_indices[label].append(idx)\n",
        "\n",
        "    selected_indices = []\n",
        "    for label, indices in class_indices.items():\n",
        "        chosen = np.random.choice(indices, num_samples_per_class, replace=False)\n",
        "        selected_indices.extend(chosen)\n",
        "\n",
        "    return torch.utils.data.Subset(dataset, selected_indices)\n",
        "\n",
        "def show_cifar10_img(img, mean=CIFAR10_MEAN, std=CIFAR10_STD):\n",
        "  img = img.cpu()\n",
        "  img = einops.einops.rearrange(img, 'c h w -> h w c')\n",
        "  #img = img.numpy().transpose((1, 2, 0))\n",
        "  img = std * img + mean  # unnormalize\n",
        "  img = torch.clip(img, 0, 1)\n",
        "  plt.imshow(img.numpy())\n",
        "  plt.axis('off')\n",
        "  plt.show()\n"
      ],
      "metadata": {
        "id": "FGMOkyfm8HqC"
      },
      "execution_count": 6,
      "outputs": []
    },
    {
      "cell_type": "code",
      "source": [
        "cifar10_dataset = create_balanced_subset(get_normalized_cifar10_dataset(), num_samples_per_class=10)\n",
        "\n",
        "cifar10_dataloader = DataLoader(cifar10_dataset, batch_size=16, shuffle=False)"
      ],
      "metadata": {
        "colab": {
          "base_uri": "https://localhost:8080/"
        },
        "id": "-NmeZPat-Pyy",
        "outputId": "dba8e419-37cb-4d5e-8635-c97fd68b604b"
      },
      "execution_count": 7,
      "outputs": [
        {
          "output_type": "stream",
          "name": "stderr",
          "text": [
            "100%|██████████| 170M/170M [00:03<00:00, 49.5MB/s]\n"
          ]
        }
      ]
    },
    {
      "cell_type": "code",
      "source": [
        "cifar10_dataset.__len__()"
      ],
      "metadata": {
        "colab": {
          "base_uri": "https://localhost:8080/"
        },
        "id": "65RTueEK-iWK",
        "outputId": "3e2505cb-d0bc-4e0c-c20b-86b92b8c915a"
      },
      "execution_count": 8,
      "outputs": [
        {
          "output_type": "execute_result",
          "data": {
            "text/plain": [
              "100"
            ]
          },
          "metadata": {},
          "execution_count": 8
        }
      ]
    },
    {
      "cell_type": "code",
      "source": [
        "show_cifar10_img(cifar10_dataset[-3][0])"
      ],
      "metadata": {
        "colab": {
          "base_uri": "https://localhost:8080/",
          "height": 406
        },
        "id": "OBOwfyMW-cvq",
        "outputId": "f09a1f2c-c493-440c-feed-d8b495733d05"
      },
      "execution_count": 9,
      "outputs": [
        {
          "output_type": "display_data",
          "data": {
            "text/plain": [
              "<Figure size 640x480 with 1 Axes>"
            ],
            "image/png": "[encoded data removed]"
          },
          "metadata": {}
        }
      ]
    },
    {
      "cell_type": "code",
      "source": [
        "def get_best_model_prediction(model, data, device=device):\n",
        "  model = model.to(device)\n",
        "  data = data.to(device)\n",
        "  model.eval()\n",
        "  with torch.no_grad():\n",
        "    output = model(data)\n",
        "    _, predicted = torch.max(output, 1)\n",
        "  return predicted\n",
        "\n",
        "def evaluate_accuracy(model, dataloader, device=None):\n",
        "    \"\"\"\n",
        "    Evaluate accuracy of the model on the given dataloader.\n",
        "\n",
        "    Args:\n",
        "        model (torch.nn.Module): The model to evaluate.\n",
        "        dataloader (torch.utils.data.DataLoader): DataLoader for the test dataset.\n",
        "        device (torch.device or None): Device to run evaluation on (e.g., 'cuda' or 'cpu').\n",
        "            If None, uses CUDA if available.\n",
        "\n",
        "    Returns:\n",
        "        float: Accuracy in percentage (0-100).\n",
        "    \"\"\"\n",
        "    if device is None:\n",
        "        device = torch.device(\"cuda\" if torch.cuda.is_available() else \"cpu\")\n",
        "\n",
        "    model.to(device)\n",
        "    model.eval()\n",
        "\n",
        "    correct = 0\n",
        "    total = 0\n",
        "\n",
        "    with torch.no_grad():\n",
        "        for images, labels in dataloader:\n",
        "            images = images.to(device)\n",
        "            labels = labels.to(device)\n",
        "\n",
        "            outputs = model(images)\n",
        "            _, predicted = torch.max(outputs, 1)\n",
        "\n",
        "            correct += (predicted == labels).sum().item()\n",
        "            total += labels.size(0)\n",
        "\n",
        "    accuracy = 100 * correct / total\n",
        "    return accuracy\n",
        "\n",
        "def evaluate_accuracy_model_list(model_list, dataloader, device=None):\n",
        "  for modelConfig in model_list:\n",
        "    model = modelConfig.model\n",
        "    name = modelConfig.name\n",
        "    accuracy = evaluate_accuracy(model, dataloader, device=device)\n",
        "    print(f\"Accuracy of {name}: {accuracy:.2f}%\")\n"
      ],
      "metadata": {
        "id": "nmLciCozCdJF"
      },
      "execution_count": 10,
      "outputs": []
    },
    {
      "cell_type": "code",
      "source": [
        "evaluate_accuracy_model_list(models_list, cifar10_dataloader)"
      ],
      "metadata": {
        "colab": {
          "base_uri": "https://localhost:8080/"
        },
        "id": "HgQ56G74DM8v",
        "outputId": "2d365511-7d43-42f3-a26c-854f0d91f72f"
      },
      "execution_count": 11,
      "outputs": [
        {
          "output_type": "stream",
          "name": "stdout",
          "text": [
            "Accuracy of resnet18_cifar10: 94.00%\n",
            "Accuracy of vgg16_bn_cifar10: 96.00%\n"
          ]
        }
      ]
    },
    {
      "cell_type": "markdown",
      "source": [
        "Having set up the base evaluation code we will now generate the adversarial images"
      ],
      "metadata": {
        "id": "YVYYhuX9HizD"
      }
    },
    {
      "cell_type": "markdown",
      "source": [
        "## FGSM Method"
      ],
      "metadata": {
        "id": "VK0NSOBPH1S1"
      }
    },
    {
      "cell_type": "code",
      "source": [
        "torch.tensor(cifar10_dataset.dataset.targets).shape"
      ],
      "metadata": {
        "colab": {
          "base_uri": "https://localhost:8080/"
        },
        "id": "blbJQGjFJP0b",
        "outputId": "6a61037e-178e-4334-8bb5-9760d533d31d"
      },
      "execution_count": 12,
      "outputs": [
        {
          "output_type": "execute_result",
          "data": {
            "text/plain": [
              "torch.Size([10000])"
            ]
          },
          "metadata": {},
          "execution_count": 12
        }
      ]
    },
    {
      "cell_type": "code",
      "source": [
        "def FGSM_attack(model, images, labels, eps=0.02, device=device):\n",
        "    \"\"\"\n",
        "    Parameters:\n",
        "    model: trained model in eval mode\n",
        "    imgs: Tensor of (B C H W)\n",
        "    labels: Tensor of Corresponding labels of the images (B)\n",
        "\n",
        "    Returns:\n",
        "    detached tensor: fake_imgs (B C H W), noise_grads (B C H W)\n",
        "    \"\"\"\n",
        "    # we want to calculate the gradient with respect to the images\n",
        "    model = model.to(device)\n",
        "    eps = torch.tensor(eps).to(device)\n",
        "    input_images = images.clone().to(device)\n",
        "    labels = labels.to(device)\n",
        "    # We want the gradient with respect to the input image\n",
        "    input_images.requires_grad = True\n",
        "    # Determine prediction of the model\n",
        "    logits = model(input_images)\n",
        "    # Calculate loss with respect to the true label\n",
        "    #loss = nn.CrossEntropyLoss()(logits, labels) # I thikn this is a bit wrong\n",
        "    losses = nn.CrossEntropyLoss(reduction=\"none\")(logits, labels)\n",
        "    for loss in losses:\n",
        "      # because every image processing in the forward pass is separated from each other,\n",
        "      # we are not getting any double counting here\n",
        "      loss.backward(retain_graph=True)\n",
        "    # Update image to adversarial example as written above\n",
        "    noise_grad = torch.sign(input_images.grad)\n",
        "    fake_imgs = input_images + eps * noise_grad\n",
        "    # Remove the tensor from the computational graph, otherwise plots won't work\n",
        "    fake_imgs.detach_()\n",
        "    return fake_imgs"
      ],
      "metadata": {
        "id": "_3lZaZZdInDC"
      },
      "execution_count": 13,
      "outputs": []
    },
    {
      "cell_type": "code",
      "source": [],
      "metadata": {
        "id": "rYaKXRT1omfX"
      },
      "execution_count": 13,
      "outputs": []
    },
    {
      "cell_type": "markdown",
      "source": [
        "While we are not using the batches for training, we are using them to control how many images we process in parallel."
      ],
      "metadata": {
        "id": "sjMdToWoonqx"
      }
    },
    {
      "cell_type": "code",
      "source": [
        "def dataset_to_adversarial(model, dataset, attack_fun, batch_size, device=device):\n",
        "    dataloader = DataLoader(dataset, batch_size=batch_size, shuffle=False)\n",
        "    adv_imgs = []\n",
        "    label_list = []\n",
        "\n",
        "    for data, labels in dataloader:\n",
        "        data = data.to(device)\n",
        "        labels = labels.to(device)\n",
        "        adv_batch = attack_fun(model, data, labels)\n",
        "        adv_imgs.append(adv_batch.detach().cpu())\n",
        "        label_list.append(labels.cpu())\n",
        "\n",
        "    adv_imgs = torch.cat(adv_imgs, dim=0)\n",
        "    labels = torch.cat(label_list, dim=0)\n",
        "\n",
        "    return TensorDataset(adv_imgs, labels)\n"
      ],
      "metadata": {
        "id": "L2dygu0Mnzi4"
      },
      "execution_count": 14,
      "outputs": []
    },
    {
      "cell_type": "code",
      "source": [
        "\n",
        "fgsm_dataset = dataset_to_adversarial(example_model.model, cifar10_dataset, FGSM_attack, batch_size=16)"
      ],
      "metadata": {
        "id": "fS9Hp5HTo878"
      },
      "execution_count": 16,
      "outputs": []
    },
    {
      "cell_type": "code",
      "source": [],
      "metadata": {
        "id": "XEouCNfN9wi_"
      },
      "execution_count": 16,
      "outputs": []
    },
    {
      "cell_type": "code",
      "source": [
        "batch = next(iter(cifar10_dataloader))\n",
        "data = batch[0]\n",
        "labels = batch[1]\n",
        "perturbed_imgs = FGSM_attack(models_list[1].model, data, labels)"
      ],
      "metadata": {
        "id": "pkdW3eFMHhsc"
      },
      "execution_count": 19,
      "outputs": []
    },
    {
      "cell_type": "code",
      "source": [
        "get_best_model_prediction(example_model.model, data)"
      ],
      "metadata": {
        "colab": {
          "base_uri": "https://localhost:8080/"
        },
        "id": "hdRu0ez3MkXY",
        "outputId": "e8fd19a1-c980-422f-d173-58ff2f930c38"
      },
      "execution_count": 21,
      "outputs": [
        {
          "output_type": "execute_result",
          "data": {
            "text/plain": [
              "tensor([0, 0, 0, 0, 0, 0, 0, 0, 0, 0, 1, 1, 1, 1, 1, 1], device='cuda:0')"
            ]
          },
          "metadata": {},
          "execution_count": 21
        }
      ]
    },
    {
      "cell_type": "code",
      "source": [
        "perturbed_imgs[-3]\n",
        "print(get_best_model_prediction(example_model.model, perturbed_imgs))\n",
        "show_cifar10_img(perturbed_imgs[-3])\n"
      ],
      "metadata": {
        "colab": {
          "base_uri": "https://localhost:8080/",
          "height": 424
        },
        "id": "YLnuiSvXMRjh",
        "outputId": "1c6010a2-6b39-4ef7-9b2a-b359e351303f"
      },
      "execution_count": 23,
      "outputs": [
        {
          "output_type": "stream",
          "name": "stdout",
          "text": [
            "tensor([9, 2, 0, 0, 0, 0, 0, 0, 8, 0, 1, 1, 1, 1, 1, 1], device='cuda:0')\n"
          ]
        },
        {
          "output_type": "display_data",
          "data": {
            "text/plain": [
              "<Figure size 640x480 with 1 Axes>"
            ],
            "image/png": "[encoded data removed]"
          },
          "metadata": {}
        }
      ]
    },
    {
      "cell_type": "markdown",
      "source": [
        "If we want an eps that corresponds to about 3% image perturbation, then scaled by standard deviation we get a normalized_eps of $\\epsilon/\\sigma_{\\text{Channel}}$. Here all our $\\sigma_{\\text{Channel}}$ are around $0.25$ so we will simplify and just use a clipping of $4 * \\epsilon$."
      ],
      "metadata": {
        "id": "e8T0Cmk46LPh"
      }
    },
    {
      "cell_type": "code",
      "source": [
        "def get_normalized_hyperparamter_tensor(value, stds):\n",
        "    \"\"\"\n",
        "    Scale a scalar epsilon or alpha by std for each channel.\n",
        "    Returns tensor of shape (C)\n",
        "\n",
        "    \"\"\"\n",
        "    # first scale with 1/255\n",
        "    value = value/255\n",
        "\n",
        "    return value/stds\n",
        "\n",
        "def get_normalized_clamp(clamp, means, stds):\n",
        "  return ((clamp[0] - means)/stds, (clamp[1] - means)/stds)\n",
        "\n",
        "eps = 4    # max perturbation in [0,255] image space. Nr RHB values steps allowed\n",
        "alpha = 1 # step size in image space for iterative method\n",
        "eps_normalized = get_normalized_hyperparamter_tensor(eps, CIFAR10_STD)\n",
        "alpha_normalized = get_normalized_hyperparamter_tensor(alpha, CIFAR10_STD)\n",
        "clamp_normalized = get_normalized_clamp((0,1), CIFAR10_MEAN, CIFAR10_STD)\n",
        "\n",
        "print(clamp_normalized)\n"
      ],
      "metadata": {
        "colab": {
          "base_uri": "https://localhost:8080/"
        },
        "id": "UJ380CTd_0Ev",
        "outputId": "c8502eb2-8a7d-4723-c71d-c4fdf89b3c44"
      },
      "execution_count": 24,
      "outputs": [
        {
          "output_type": "stream",
          "name": "stdout",
          "text": [
            "(tensor([-1.9895, -1.9803, -1.7068]), tensor([2.0591, 2.1265, 2.1158]))\n"
          ]
        }
      ]
    },
    {
      "cell_type": "code",
      "source": [
        "#\n",
        "def i_fgsm_attack(model, images, labels, eps, alpha, clamp, iters=10, device=device):\n",
        "    \"\"\"\n",
        "    Perform the Iterative FGSM (I-FGSM) adversarial attack.\n",
        "\n",
        "    Args:\n",
        "        model (torch.nn.Module): The model to attack.\n",
        "        images (torch.Tensor): Input images (normalized). (B, C, W, H)\n",
        "        labels (torch.Tensor): True labels.\n",
        "        eps (tensor): Maximum perturbation per channel. shape: (C)\n",
        "        alpha (float): Step size for each iteration per channel. shape: (C)\n",
        "        iters (int): Number of iterations.\n",
        "        clamp (tuple of tensors): Tuple of (tensor(min), tensor(max)) values to clamp image pixels after update.\n",
        "            tensor(min) and tensor(max) have shape (C)\n",
        "\n",
        "    Returns:\n",
        "        torch.Tensor: Adversarially perturbed images. (B,C,W,H)\n",
        "    \"\"\"\n",
        "    images  = images.clone().detach().to(device) # remove any potential history\n",
        "    labels = labels.clone().detach().to(device)\n",
        "    adv_images = images.clone().detach().to(device)\n",
        "    # reshaping for broadcasting to work later\n",
        "    alpha = einops.rearrange(alpha, 'c -> 1 c 1 1').to(device)\n",
        "    eps = einops.rearrange(eps, 'c -> 1 c 1 1').to(device)\n",
        "    clamp_min = einops.rearrange(clamp[0], 'c -> 1 c 1 1').to(device)\n",
        "    clamp_max = einops.rearrange(clamp[1], 'c -> 1 c 1 1').to(device)\n",
        "\n",
        "    for _ in range(iters):\n",
        "        adv_images.requires_grad = True\n",
        "        outputs = model(adv_images)\n",
        "\n",
        "\n",
        "        losses = nn.CrossEntropyLoss(reduction=\"none\")(outputs, labels) # we have one loss per image\n",
        "        # we want individual backpropagations per image\n",
        "\n",
        "        if adv_images.grad is not None: # is none on first iteration\n",
        "          adv_images.grad.zero_()\n",
        "\n",
        "        for loss in losses:\n",
        "            loss.backward(retain_graph=True)\n",
        "\n",
        "        # Gradient sign update\n",
        "        grad_sign = adv_images.grad.sign()\n",
        "        adv_images.data = adv_images.data + alpha * grad_sign\n",
        "\n",
        "        # Project back to epsilon-ball and clamp to valid range\n",
        "        delta = torch.clamp(adv_images.data - images, min=-eps, max=eps)\n",
        "        adv_images.data = torch.clamp(images + delta, min=clamp_min, max=clamp_max)\n",
        "\n",
        "\n",
        "    return adv_images\n"
      ],
      "metadata": {
        "id": "Q478yuAtNoFJ"
      },
      "execution_count": 25,
      "outputs": []
    },
    {
      "cell_type": "code",
      "source": [
        "@dataclass\n",
        "class AdversarialDatasetConfig:\n",
        "    dataset_name: str                # e.g., \"CIFAR-10\"\n",
        "    attack_name: str                 # e.g., \"I-FGSM\"\n",
        "    model_name: str                  # e.g., \"resnet18_cifar10\"\n",
        "    adversarial_dataset: Dataset    # torch.utils.data.Dataset (like TensorDataset)\n",
        "\n",
        "    def __repr__(self):\n",
        "        return (f\"AdversarialDatasetConfig(dataset_name='{self.dataset_name}', \"\n",
        "                f\"attack_name='{self.attack_name}', \"\n",
        "                f\"model_name='{self.model_name}', \"\n",
        "                f\"num_samples={len(self.adversarial_dataset)})\")"
      ],
      "metadata": {
        "id": "ttjhid8T_01a"
      },
      "execution_count": 26,
      "outputs": []
    },
    {
      "cell_type": "code",
      "source": [
        "# i_fgsm_dataset = dataset_to_adversarial(example_model.model, cifar10_dataset, I_FGSM_attack_lambda, batch_size=16)"
      ],
      "metadata": {
        "id": "PB2E-PP3979z"
      },
      "execution_count": 29,
      "outputs": []
    },
    {
      "cell_type": "code",
      "source": [
        "# prompt: A function that loops through a list of model configurations and a applies the two kinds of attacks I have and creates a list of ADverserialDatasetConfigs\n",
        "\n",
        "def create_adversarial_datasets(model_configs, original_dataset, fgsm_attack_func, ifgsm_attack_func, batch_size):\n",
        "    \"\"\"\n",
        "    Loops through a list of model configurations and applies FGSM and I-FGSM attacks\n",
        "    to create a list of AdversarialDatasetConfigs.\n",
        "\n",
        "    Args:\n",
        "        model_configs (list[ModelConfig]): A list of ModelConfig objects.\n",
        "        original_dataset (Dataset): The original dataset to attack.\n",
        "        fgsm_attack_func (function): The function for the FGSM attack.\n",
        "        ifgsm_attack_func (function): The function for the I-FGSM attack.\n",
        "        batch_size (int): Batch size for generating adversarial examples.\n",
        "\n",
        "    Returns:\n",
        "        list[AdversarialDatasetConfig]: A list of generated AdversarialDatasetConfig objects.\n",
        "    \"\"\"\n",
        "    adversarial_datasets = []\n",
        "\n",
        "    for model_config in model_configs:\n",
        "        model = model_config.model\n",
        "        model_name = model_config.name\n",
        "\n",
        "        # Generate FGSM adversarial dataset\n",
        "        print(f\"Generating FGSM adversarial dataset for model: {model_name}\")\n",
        "        fgsm_adv_dataset = dataset_to_adversarial(model, original_dataset, fgsm_attack_func, batch_size)\n",
        "        adversarial_datasets.append(AdversarialDatasetConfig(\n",
        "            dataset_name=\"CIFAR-10\",\n",
        "            attack_name=\"FGSM\",\n",
        "            model_name=model_name,\n",
        "            adversarial_dataset=fgsm_adv_dataset\n",
        "        ))\n",
        "\n",
        "        # Generate I-FGSM adversarial dataset\n",
        "        print(f\"Generating I-FGSM adversarial dataset for model: {model_name}\")\n",
        "        ifgsm_adv_dataset = dataset_to_adversarial(model, original_dataset, ifgsm_attack_func, batch_size)\n",
        "        adversarial_datasets.append(AdversarialDatasetConfig(\n",
        "            dataset_name=\"CIFAR-10\",\n",
        "            attack_name=\"I-FGSM\",\n",
        "            model_name=model_name,\n",
        "            adversarial_dataset=ifgsm_adv_dataset\n",
        "        ))\n",
        "\n",
        "    return adversarial_datasets\n",
        "\n",
        "\n",
        "\n"
      ],
      "metadata": {
        "colab": {
          "base_uri": "https://localhost:8080/"
        },
        "id": "WNZmcEch__dH",
        "outputId": "a6a32053-68c4-4bcc-baad-652c27f21b34"
      },
      "execution_count": 30,
      "outputs": [
        {
          "output_type": "stream",
          "name": "stdout",
          "text": [
            "Generating FGSM adversarial dataset for model: resnet18_cifar10\n",
            "Generating I-FGSM adversarial dataset for model: resnet18_cifar10\n",
            "Generating FGSM adversarial dataset for model: vgg16_bn_cifar10\n",
            "Generating I-FGSM adversarial dataset for model: vgg16_bn_cifar10\n"
          ]
        }
      ]
    },
    {
      "cell_type": "code",
      "source": [
        "# IFGSM_images = i_fgsm_attack(example_model, data, labels, eps_normalized, alpha_normalized, clamp=clamp_normalized)"
      ],
      "metadata": {
        "id": "wMhjHQxnXXcu"
      },
      "execution_count": 34,
      "outputs": []
    },
    {
      "cell_type": "code",
      "source": [
        "#print(get_best_model_prediction(example_model, data))\n",
        "#show_cifar10_img(data[-3])"
      ],
      "metadata": {
        "colab": {
          "base_uri": "https://localhost:8080/",
          "height": 287
        },
        "id": "a1XSK2HBjgBA",
        "outputId": "4d557504-2ebf-4259-f05c-08ecfc045410"
      },
      "execution_count": 31,
      "outputs": [
        {
          "output_type": "error",
          "ename": "AttributeError",
          "evalue": "'ModelConfig' object has no attribute 'to'",
          "traceback": [
            "\u001b[0;31m---------------------------------------------------------------------------\u001b[0m",
            "\u001b[0;31mAttributeError\u001b[0m                            Traceback (most recent call last)",
            "\u001b[0;32m<ipython-input-31-066fb89394f2>\u001b[0m in \u001b[0;36m<cell line: 0>\u001b[0;34m()\u001b[0m\n\u001b[0;32m----> 1\u001b[0;31m \u001b[0mprint\u001b[0m\u001b[0;34m(\u001b[0m\u001b[0mget_best_model_prediction\u001b[0m\u001b[0;34m(\u001b[0m\u001b[0mexample_model\u001b[0m\u001b[0;34m,\u001b[0m \u001b[0mdata\u001b[0m\u001b[0;34m)\u001b[0m\u001b[0;34m)\u001b[0m\u001b[0;34m\u001b[0m\u001b[0;34m\u001b[0m\u001b[0m\n\u001b[0m\u001b[1;32m      2\u001b[0m \u001b[0mshow_cifar10_img\u001b[0m\u001b[0;34m(\u001b[0m\u001b[0mdata\u001b[0m\u001b[0;34m[\u001b[0m\u001b[0;34m-\u001b[0m\u001b[0;36m3\u001b[0m\u001b[0;34m]\u001b[0m\u001b[0;34m)\u001b[0m\u001b[0;34m\u001b[0m\u001b[0;34m\u001b[0m\u001b[0m\n",
            "\u001b[0;32m<ipython-input-10-7e93a1d94f7c>\u001b[0m in \u001b[0;36mget_best_model_prediction\u001b[0;34m(model, data, device)\u001b[0m\n\u001b[1;32m      1\u001b[0m \u001b[0;32mdef\u001b[0m \u001b[0mget_best_model_prediction\u001b[0m\u001b[0;34m(\u001b[0m\u001b[0mmodel\u001b[0m\u001b[0;34m,\u001b[0m \u001b[0mdata\u001b[0m\u001b[0;34m,\u001b[0m \u001b[0mdevice\u001b[0m\u001b[0;34m=\u001b[0m\u001b[0mdevice\u001b[0m\u001b[0;34m)\u001b[0m\u001b[0;34m:\u001b[0m\u001b[0;34m\u001b[0m\u001b[0;34m\u001b[0m\u001b[0m\n\u001b[0;32m----> 2\u001b[0;31m   \u001b[0mmodel\u001b[0m \u001b[0;34m=\u001b[0m \u001b[0mmodel\u001b[0m\u001b[0;34m.\u001b[0m\u001b[0mto\u001b[0m\u001b[0;34m(\u001b[0m\u001b[0mdevice\u001b[0m\u001b[0;34m)\u001b[0m\u001b[0;34m\u001b[0m\u001b[0;34m\u001b[0m\u001b[0m\n\u001b[0m\u001b[1;32m      3\u001b[0m   \u001b[0mdata\u001b[0m \u001b[0;34m=\u001b[0m \u001b[0mdata\u001b[0m\u001b[0;34m.\u001b[0m\u001b[0mto\u001b[0m\u001b[0;34m(\u001b[0m\u001b[0mdevice\u001b[0m\u001b[0;34m)\u001b[0m\u001b[0;34m\u001b[0m\u001b[0;34m\u001b[0m\u001b[0m\n\u001b[1;32m      4\u001b[0m   \u001b[0mmodel\u001b[0m\u001b[0;34m.\u001b[0m\u001b[0meval\u001b[0m\u001b[0;34m(\u001b[0m\u001b[0;34m)\u001b[0m\u001b[0;34m\u001b[0m\u001b[0;34m\u001b[0m\u001b[0m\n\u001b[1;32m      5\u001b[0m   \u001b[0;32mwith\u001b[0m \u001b[0mtorch\u001b[0m\u001b[0;34m.\u001b[0m\u001b[0mno_grad\u001b[0m\u001b[0;34m(\u001b[0m\u001b[0;34m)\u001b[0m\u001b[0;34m:\u001b[0m\u001b[0;34m\u001b[0m\u001b[0;34m\u001b[0m\u001b[0m\n",
            "\u001b[0;31mAttributeError\u001b[0m: 'ModelConfig' object has no attribute 'to'"
          ]
        }
      ]
    },
    {
      "cell_type": "code",
      "source": [
        "#perturbed_imgs[-3]\n",
        "#print(get_best_model_prediction(example_model, IFGSM_images))\n",
        "#show_cifar10_img(perturbed_imgs[-3])"
      ],
      "metadata": {
        "colab": {
          "base_uri": "https://localhost:8080/",
          "height": 424
        },
        "id": "M0gyNINzh6cQ",
        "outputId": "3992d4a3-eaa7-4664-cf91-d59e054cc53b"
      },
      "execution_count": 36,
      "outputs": [
        {
          "output_type": "stream",
          "name": "stdout",
          "text": [
            "tensor([9, 2, 7, 2, 2, 9, 3, 2, 8, 8, 9, 2, 9, 3, 9, 8], device='cuda:0')\n"
          ]
        },
        {
          "output_type": "display_data",
          "data": {
            "text/plain": [
              "<Figure size 640x480 with 1 Axes>"
            ],
            "image/png": "[encoded data removed]"
          },
          "metadata": {}
        }
      ]
    },
    {
      "cell_type": "markdown",
      "source": [
        "## Creating adversarial datasets"
      ],
      "metadata": {
        "id": "PWC_uaZaUwPf"
      }
    },
    {
      "cell_type": "code",
      "source": [
        "I_FGSM_attack_lambda = lambda model, images, labels: i_fgsm_attack(model, images, labels, eps_normalized, alpha_normalized, clamp_normalized)\n",
        "\n",
        "generated_adversarial_datasets = create_adversarial_datasets(\n",
        "     models_list,\n",
        "     cifar10_dataset,\n",
        "     FGSM_attack, # Using the base FGSM_attack function\n",
        "     I_FGSM_attack_lambda, # Using the lambda function for I-FGSM with defined params\n",
        "     batch_size=16\n",
        " )"
      ],
      "metadata": {
        "colab": {
          "base_uri": "https://localhost:8080/"
        },
        "id": "t5gy2X-UUzIk",
        "outputId": "45ca503e-a2fd-486a-e100-04b743b5bf7a"
      },
      "execution_count": 81,
      "outputs": [
        {
          "output_type": "stream",
          "name": "stdout",
          "text": [
            "Generating FGSM adversarial dataset for model: resnet18_cifar10\n",
            "Generating I-FGSM adversarial dataset for model: resnet18_cifar10\n",
            "Generating FGSM adversarial dataset for model: vgg16_bn_cifar10\n",
            "Generating I-FGSM adversarial dataset for model: vgg16_bn_cifar10\n"
          ]
        }
      ]
    },
    {
      "cell_type": "code",
      "source": [
        "!pip install plotnine\n",
        "import plotnine as pn\n",
        "\n"
      ],
      "metadata": {
        "colab": {
          "base_uri": "https://localhost:8080/"
        },
        "id": "7nkW8wupa1_p",
        "outputId": "90131e20-a50f-4e8c-a90a-825c84b723bc"
      },
      "execution_count": 54,
      "outputs": [
        {
          "output_type": "stream",
          "name": "stdout",
          "text": [
            "Requirement already satisfied: plotnine in /usr/local/lib/python3.11/dist-packages (0.14.5)\n",
            "Requirement already satisfied: matplotlib>=3.8.0 in /usr/local/lib/python3.11/dist-packages (from plotnine) (3.10.0)\n",
            "Requirement already satisfied: pandas>=2.2.0 in /usr/local/lib/python3.11/dist-packages (from plotnine) (2.2.2)\n",
            "Requirement already satisfied: mizani~=0.13.0 in /usr/local/lib/python3.11/dist-packages (from plotnine) (0.13.5)\n",
            "Requirement already satisfied: numpy>=1.23.5 in /usr/local/lib/python3.11/dist-packages (from plotnine) (2.0.2)\n",
            "Requirement already satisfied: scipy>=1.8.0 in /usr/local/lib/python3.11/dist-packages (from plotnine) (1.15.3)\n",
            "Requirement already satisfied: statsmodels>=0.14.0 in /usr/local/lib/python3.11/dist-packages (from plotnine) (0.14.4)\n",
            "Requirement already satisfied: contourpy>=1.0.1 in /usr/local/lib/python3.11/dist-packages (from matplotlib>=3.8.0->plotnine) (1.3.2)\n",
            "Requirement already satisfied: cycler>=0.10 in /usr/local/lib/python3.11/dist-packages (from matplotlib>=3.8.0->plotnine) (0.12.1)\n",
            "Requirement already satisfied: fonttools>=4.22.0 in /usr/local/lib/python3.11/dist-packages (from matplotlib>=3.8.0->plotnine) (4.58.0)\n",
            "Requirement already satisfied: kiwisolver>=1.3.1 in /usr/local/lib/python3.11/dist-packages (from matplotlib>=3.8.0->plotnine) (1.4.8)\n",
            "Requirement already satisfied: packaging>=20.0 in /usr/local/lib/python3.11/dist-packages (from matplotlib>=3.8.0->plotnine) (24.2)\n",
            "Requirement already satisfied: pillow>=8 in /usr/local/lib/python3.11/dist-packages (from matplotlib>=3.8.0->plotnine) (11.2.1)\n",
            "Requirement already satisfied: pyparsing>=2.3.1 in /usr/local/lib/python3.11/dist-packages (from matplotlib>=3.8.0->plotnine) (3.2.3)\n",
            "Requirement already satisfied: python-dateutil>=2.7 in /usr/local/lib/python3.11/dist-packages (from matplotlib>=3.8.0->plotnine) (2.9.0.post0)\n",
            "Requirement already satisfied: pytz>=2020.1 in /usr/local/lib/python3.11/dist-packages (from pandas>=2.2.0->plotnine) (2025.2)\n",
            "Requirement already satisfied: tzdata>=2022.7 in /usr/local/lib/python3.11/dist-packages (from pandas>=2.2.0->plotnine) (2025.2)\n",
            "Requirement already satisfied: patsy>=0.5.6 in /usr/local/lib/python3.11/dist-packages (from statsmodels>=0.14.0->plotnine) (1.0.1)\n",
            "Requirement already satisfied: six>=1.5 in /usr/local/lib/python3.11/dist-packages (from python-dateutil>=2.7->matplotlib>=3.8.0->plotnine) (1.17.0)\n"
          ]
        }
      ]
    },
    {
      "cell_type": "markdown",
      "source": [
        "## Evaluating on the different datasets\n",
        "From here on we assume that we have a few different dataset:\n",
        "\n",
        "*   The original dataset with clean images\n",
        "*   One dataset per attack type\n"
      ],
      "metadata": {
        "id": "rGPXDqTV4zd9"
      }
    },
    {
      "cell_type": "code",
      "source": [
        "# prompt: go through the attacked_datasets and calculated accuracy. type hint in the declaration\n",
        "\n",
        "from typing import List\n",
        "import pandas as pd\n",
        "\n",
        "def evaluate_attacked_datasets(attacked_datasets: list, model_list: list, batch_size: int = 32, device=None):\n",
        "    \"\"\"\n",
        "    Evaluates the accuracy of models on a list of attacked datasets and returns a DataFrame.\n",
        "\n",
        "    Args:\n",
        "        attacked_datasets (List[AdversarialDatasetConfig]): List of adversarial dataset configurations.\n",
        "        model_list (List[dict]): List of dictionaries with keys 'name' and 'model'.\n",
        "        batch_size (int): Batch size for the DataLoader.\n",
        "        device (torch.device): Device to run evaluation on.\n",
        "\n",
        "    Returns:\n",
        "        pd.DataFrame: Evaluation results with columns: [dataset, attack, attacked_model, evaluated_model, accuracy].\n",
        "    \"\"\"\n",
        "\n",
        "    results = []\n",
        "\n",
        "    for attacked_config in attacked_datasets:\n",
        "        dataset_name = attacked_config.dataset_name\n",
        "        attack_name = attacked_config.attack_name\n",
        "        model_name_attacked = attacked_config.model_name\n",
        "        adversarial_dataset = attacked_config.adversarial_dataset\n",
        "\n",
        "        adv_dataloader = DataLoader(adversarial_dataset, batch_size=batch_size, shuffle=False)\n",
        "\n",
        "        for model_config in model_list:\n",
        "            evaluated_model_name = model_config.name\n",
        "            model = model_config.model\n",
        "            accuracy = evaluate_accuracy(model, adv_dataloader, device=device)\n",
        "\n",
        "            results.append({\n",
        "                \"dataset\": dataset_name,\n",
        "                \"attack\": attack_name,\n",
        "                \"attacked_model\": model_name_attacked,\n",
        "                \"evaluated_model\": evaluated_model_name,\n",
        "                \"accuracy\": accuracy\n",
        "            })\n",
        "    pd_result = pd.DataFrame(results)\n",
        "    pd_result['is_transferred'] = pd_result['evaluated_model'] != pd_result['attacked_model']\n",
        "\n",
        "    return pd_result\n",
        "\n",
        "# Now run the evaluation\n",
        "pd_result = evaluate_attacked_datasets(generated_adversarial_datasets, models_list)\n",
        "\n",
        "\n",
        "for model_config in models_list:\n",
        "  model = model_config.model\n",
        "  name = model_config.name\n",
        "  accuracy = evaluate_accuracy(model, cifar10_dataloader)\n",
        "  pd_result.loc[len(pd_result)] = {\n",
        "    \"dataset\": \"CIFAR-10\",\n",
        "    \"attack\": \"None\",\n",
        "    \"attacked_model\": name,\n",
        "    \"evaluated_model\": name,\n",
        "    \"accuracy\": accuracy,\n",
        "    \"is_transferred\": False\n",
        "}\n",
        "\n",
        "  # add to pd_result\n",
        "\n",
        "\n",
        "# also add the field of the clean image\n"
      ],
      "metadata": {
        "colab": {
          "base_uri": "https://localhost:8080/",
          "height": 363
        },
        "id": "JYjDaJYC-r1h",
        "outputId": "862ff2de-f215-4a8b-cff4-02d18e17ad21"
      },
      "execution_count": 87,
      "outputs": [
        {
          "output_type": "execute_result",
          "data": {
            "text/plain": [
              "    dataset  attack    attacked_model   evaluated_model  accuracy  \\\n",
              "0  CIFAR-10    FGSM  resnet18_cifar10  resnet18_cifar10      58.0   \n",
              "1  CIFAR-10    FGSM  resnet18_cifar10  vgg16_bn_cifar10      90.0   \n",
              "2  CIFAR-10  I-FGSM  resnet18_cifar10  resnet18_cifar10       0.0   \n",
              "3  CIFAR-10  I-FGSM  resnet18_cifar10  vgg16_bn_cifar10      53.0   \n",
              "4  CIFAR-10    FGSM  vgg16_bn_cifar10  resnet18_cifar10      81.0   \n",
              "5  CIFAR-10    FGSM  vgg16_bn_cifar10  vgg16_bn_cifar10      67.0   \n",
              "6  CIFAR-10  I-FGSM  vgg16_bn_cifar10  resnet18_cifar10      34.0   \n",
              "7  CIFAR-10  I-FGSM  vgg16_bn_cifar10  vgg16_bn_cifar10       2.0   \n",
              "8  CIFAR-10    None  resnet18_cifar10  resnet18_cifar10      94.0   \n",
              "9  CIFAR-10    None  vgg16_bn_cifar10  vgg16_bn_cifar10      96.0   \n",
              "\n",
              "   is_transferred  \n",
              "0           False  \n",
              "1            True  \n",
              "2           False  \n",
              "3            True  \n",
              "4            True  \n",
              "5           False  \n",
              "6            True  \n",
              "7           False  \n",
              "8           False  \n",
              "9           False  "
            ],
            "text/html": [
              "\n",
              "  <div id=\"df-ed9eca19-b904-4b54-aee0-5509f2ded47c\" class=\"colab-df-container\">\n",
              "    <div>\n",
              "<style scoped>\n",
              "    .dataframe tbody tr th:only-of-type {\n",
              "        vertical-align: middle;\n",
              "    }\n",
              "\n",
              "    .dataframe tbody tr th {\n",
              "        vertical-align: top;\n",
              "    }\n",
              "\n",
              "    .dataframe thead th {\n",
              "        text-align: right;\n",
              "    }\n",
              "</style>\n",
              "<table border=\"1\" class=\"dataframe\">\n",
              "  <thead>\n",
              "    <tr style=\"text-align: right;\">\n",
              "      <th></th>\n",
              "      <th>dataset</th>\n",
              "      <th>attack</th>\n",
              "      <th>attacked_model</th>\n",
              "      <th>evaluated_model</th>\n",
              "      <th>accuracy</th>\n",
              "      <th>is_transferred</th>\n",
              "    </tr>\n",
              "  </thead>\n",
              "  <tbody>\n",
              "    <tr>\n",
              "      <th>0</th>\n",
              "      <td>CIFAR-10</td>\n",
              "      <td>FGSM</td>\n",
              "      <td>resnet18_cifar10</td>\n",
              "      <td>resnet18_cifar10</td>\n",
              "      <td>58.0</td>\n",
              "      <td>False</td>\n",
              "    </tr>\n",
              "    <tr>\n",
              "      <th>1</th>\n",
              "      <td>CIFAR-10</td>\n",
              "      <td>FGSM</td>\n",
              "      <td>resnet18_cifar10</td>\n",
              "      <td>vgg16_bn_cifar10</td>\n",
              "      <td>90.0</td>\n",
              "      <td>True</td>\n",
              "    </tr>\n",
              "    <tr>\n",
              "      <th>2</th>\n",
              "      <td>CIFAR-10</td>\n",
              "      <td>I-FGSM</td>\n",
              "      <td>resnet18_cifar10</td>\n",
              "      <td>resnet18_cifar10</td>\n",
              "      <td>0.0</td>\n",
              "      <td>False</td>\n",
              "    </tr>\n",
              "    <tr>\n",
              "      <th>3</th>\n",
              "      <td>CIFAR-10</td>\n",
              "      <td>I-FGSM</td>\n",
              "      <td>resnet18_cifar10</td>\n",
              "      <td>vgg16_bn_cifar10</td>\n",
              "      <td>53.0</td>\n",
              "      <td>True</td>\n",
              "    </tr>\n",
              "    <tr>\n",
              "      <th>4</th>\n",
              "      <td>CIFAR-10</td>\n",
              "      <td>FGSM</td>\n",
              "      <td>vgg16_bn_cifar10</td>\n",
              "      <td>resnet18_cifar10</td>\n",
              "      <td>81.0</td>\n",
              "      <td>True</td>\n",
              "    </tr>\n",
              "    <tr>\n",
              "      <th>5</th>\n",
              "      <td>CIFAR-10</td>\n",
              "      <td>FGSM</td>\n",
              "      <td>vgg16_bn_cifar10</td>\n",
              "      <td>vgg16_bn_cifar10</td>\n",
              "      <td>67.0</td>\n",
              "      <td>False</td>\n",
              "    </tr>\n",
              "    <tr>\n",
              "      <th>6</th>\n",
              "      <td>CIFAR-10</td>\n",
              "      <td>I-FGSM</td>\n",
              "      <td>vgg16_bn_cifar10</td>\n",
              "      <td>resnet18_cifar10</td>\n",
              "      <td>34.0</td>\n",
              "      <td>True</td>\n",
              "    </tr>\n",
              "    <tr>\n",
              "      <th>7</th>\n",
              "      <td>CIFAR-10</td>\n",
              "      <td>I-FGSM</td>\n",
              "      <td>vgg16_bn_cifar10</td>\n",
              "      <td>vgg16_bn_cifar10</td>\n",
              "      <td>2.0</td>\n",
              "      <td>False</td>\n",
              "    </tr>\n",
              "    <tr>\n",
              "      <th>8</th>\n",
              "      <td>CIFAR-10</td>\n",
              "      <td>None</td>\n",
              "      <td>resnet18_cifar10</td>\n",
              "      <td>resnet18_cifar10</td>\n",
              "      <td>94.0</td>\n",
              "      <td>False</td>\n",
              "    </tr>\n",
              "    <tr>\n",
              "      <th>9</th>\n",
              "      <td>CIFAR-10</td>\n",
              "      <td>None</td>\n",
              "      <td>vgg16_bn_cifar10</td>\n",
              "      <td>vgg16_bn_cifar10</td>\n",
              "      <td>96.0</td>\n",
              "      <td>False</td>\n",
              "    </tr>\n",
              "  </tbody>\n",
              "</table>\n",
              "</div>\n",
              "    <div class=\"colab-df-buttons\">\n",
              "\n",
              "  <div class=\"colab-df-container\">\n",
              "    <button class=\"colab-df-convert\" onclick=\"convertToInteractive('df-ed9eca19-b904-4b54-aee0-5509f2ded47c')\"\n",
              "            title=\"Convert this dataframe to an interactive table.\"\n",
              "            style=\"display:none;\">\n",
              "\n",
              "  <svg xmlns=\"http://www.w3.org/2000/svg\" height=\"24px\" viewBox=\"0 -960 960 960\">\n",
              "    <path d=\"M120-120v-720h720v720H120Zm60-500h600v-160H180v160Zm220 220h160v-160H400v160Zm0 220h160v-160H400v160ZM180-400h160v-160H180v160Zm440 0h160v-160H620v160ZM180-180h160v-160H180v160Zm440 0h160v-160H620v160Z\"/>\n",
              "  </svg>\n",
              "    </button>\n",
              "\n",
              "  <style>\n",
              "    .colab-df-container {\n",
              "      display:flex;\n",
              "      gap: 12px;\n",
              "    }\n",
              "\n",
              "    .colab-df-convert {\n",
              "      background-color: #E8F0FE;\n",
              "      border: none;\n",
              "      border-radius: 50%;\n",
              "      cursor: pointer;\n",
              "      display: none;\n",
              "      fill: #1967D2;\n",
              "      height: 32px;\n",
              "      padding: 0 0 0 0;\n",
              "      width: 32px;\n",
              "    }\n",
              "\n",
              "    .colab-df-convert:hover {\n",
              "      background-color: #E2EBFA;\n",
              "      box-shadow: 0px 1px 2px rgba(60, 64, 67, 0.3), 0px 1px 3px 1px rgba(60, 64, 67, 0.15);\n",
              "      fill: #174EA6;\n",
              "    }\n",
              "\n",
              "    .colab-df-buttons div {\n",
              "      margin-bottom: 4px;\n",
              "    }\n",
              "\n",
              "    [theme=dark] .colab-df-convert {\n",
              "      background-color: #3B4455;\n",
              "      fill: #D2E3FC;\n",
              "    }\n",
              "\n",
              "    [theme=dark] .colab-df-convert:hover {\n",
              "      background-color: #434B5C;\n",
              "      box-shadow: 0px 1px 3px 1px rgba(0, 0, 0, 0.15);\n",
              "      filter: drop-shadow(0px 1px 2px rgba(0, 0, 0, 0.3));\n",
              "      fill: #FFFFFF;\n",
              "    }\n",
              "  </style>\n",
              "\n",
              "    <script>\n",
              "      const buttonEl =\n",
              "        document.querySelector('#df-ed9eca19-b904-4b54-aee0-5509f2ded47c button.colab-df-convert');\n",
              "      buttonEl.style.display =\n",
              "        google.colab.kernel.accessAllowed ? 'block' : 'none';\n",
              "\n",
              "      async function convertToInteractive(key) {\n",
              "        const element = document.querySelector('#df-ed9eca19-b904-4b54-aee0-5509f2ded47c');\n",
              "        const dataTable =\n",
              "          await google.colab.kernel.invokeFunction('convertToInteractive',\n",
              "                                                    [key], {});\n",
              "        if (!dataTable) return;\n",
              "\n",
              "        const docLinkHtml = 'Like what you see? Visit the ' +\n",
              "          '<a target=\"_blank\" href=https://colab.research.google.com/notebooks/data_table.ipynb>data table notebook</a>'\n",
              "          + ' to learn more about interactive tables.';\n",
              "        element.innerHTML = '';\n",
              "        dataTable['output_type'] = 'display_data';\n",
              "        await google.colab.output.renderOutput(dataTable, element);\n",
              "        const docLink = document.createElement('div');\n",
              "        docLink.innerHTML = docLinkHtml;\n",
              "        element.appendChild(docLink);\n",
              "      }\n",
              "    </script>\n",
              "  </div>\n",
              "\n",
              "\n",
              "    <div id=\"df-5d6ff0e7-6439-4cab-b68d-fca8f7462a58\">\n",
              "      <button class=\"colab-df-quickchart\" onclick=\"quickchart('df-5d6ff0e7-6439-4cab-b68d-fca8f7462a58')\"\n",
              "                title=\"Suggest charts\"\n",
              "                style=\"display:none;\">\n",
              "\n",
              "<svg xmlns=\"http://www.w3.org/2000/svg\" height=\"24px\"viewBox=\"0 0 24 24\"\n",
              "     width=\"24px\">\n",
              "    <g>\n",
              "        <path d=\"M19 3H5c-1.1 0-2 .9-2 2v14c0 1.1.9 2 2 2h14c1.1 0 2-.9 2-2V5c0-1.1-.9-2-2-2zM9 17H7v-7h2v7zm4 0h-2V7h2v10zm4 0h-2v-4h2v4z\"/>\n",
              "    </g>\n",
              "</svg>\n",
              "      </button>\n",
              "\n",
              "<style>\n",
              "  .colab-df-quickchart {\n",
              "      --bg-color: #E8F0FE;\n",
              "      --fill-color: #1967D2;\n",
              "      --hover-bg-color: #E2EBFA;\n",
              "      --hover-fill-color: #174EA6;\n",
              "      --disabled-fill-color: #AAA;\n",
              "      --disabled-bg-color: #DDD;\n",
              "  }\n",
              "\n",
              "  [theme=dark] .colab-df-quickchart {\n",
              "      --bg-color: #3B4455;\n",
              "      --fill-color: #D2E3FC;\n",
              "      --hover-bg-color: #434B5C;\n",
              "      --hover-fill-color: #FFFFFF;\n",
              "      --disabled-bg-color: #3B4455;\n",
              "      --disabled-fill-color: #666;\n",
              "  }\n",
              "\n",
              "  .colab-df-quickchart {\n",
              "    background-color: var(--bg-color);\n",
              "    border: none;\n",
              "    border-radius: 50%;\n",
              "    cursor: pointer;\n",
              "    display: none;\n",
              "    fill: var(--fill-color);\n",
              "    height: 32px;\n",
              "    padding: 0;\n",
              "    width: 32px;\n",
              "  }\n",
              "\n",
              "  .colab-df-quickchart:hover {\n",
              "    background-color: var(--hover-bg-color);\n",
              "    box-shadow: 0 1px 2px rgba(60, 64, 67, 0.3), 0 1px 3px 1px rgba(60, 64, 67, 0.15);\n",
              "    fill: var(--button-hover-fill-color);\n",
              "  }\n",
              "\n",
              "  .colab-df-quickchart-complete:disabled,\n",
              "  .colab-df-quickchart-complete:disabled:hover {\n",
              "    background-color: var(--disabled-bg-color);\n",
              "    fill: var(--disabled-fill-color);\n",
              "    box-shadow: none;\n",
              "  }\n",
              "\n",
              "  .colab-df-spinner {\n",
              "    border: 2px solid var(--fill-color);\n",
              "    border-color: transparent;\n",
              "    border-bottom-color: var(--fill-color);\n",
              "    animation:\n",
              "      spin 1s steps(1) infinite;\n",
              "  }\n",
              "\n",
              "  @keyframes spin {\n",
              "    0% {\n",
              "      border-color: transparent;\n",
              "      border-bottom-color: var(--fill-color);\n",
              "      border-left-color: var(--fill-color);\n",
              "    }\n",
              "    20% {\n",
              "      border-color: transparent;\n",
              "      border-left-color: var(--fill-color);\n",
              "      border-top-color: var(--fill-color);\n",
              "    }\n",
              "    30% {\n",
              "      border-color: transparent;\n",
              "      border-left-color: var(--fill-color);\n",
              "      border-top-color: var(--fill-color);\n",
              "      border-right-color: var(--fill-color);\n",
              "    }\n",
              "    40% {\n",
              "      border-color: transparent;\n",
              "      border-right-color: var(--fill-color);\n",
              "      border-top-color: var(--fill-color);\n",
              "    }\n",
              "    60% {\n",
              "      border-color: transparent;\n",
              "      border-right-color: var(--fill-color);\n",
              "    }\n",
              "    80% {\n",
              "      border-color: transparent;\n",
              "      border-right-color: var(--fill-color);\n",
              "      border-bottom-color: var(--fill-color);\n",
              "    }\n",
              "    90% {\n",
              "      border-color: transparent;\n",
              "      border-bottom-color: var(--fill-color);\n",
              "    }\n",
              "  }\n",
              "</style>\n",
              "\n",
              "      <script>\n",
              "        async function quickchart(key) {\n",
              "          const quickchartButtonEl =\n",
              "            document.querySelector('#' + key + ' button');\n",
              "          quickchartButtonEl.disabled = true;  // To prevent multiple clicks.\n",
              "          quickchartButtonEl.classList.add('colab-df-spinner');\n",
              "          try {\n",
              "            const charts = await google.colab.kernel.invokeFunction(\n",
              "                'suggestCharts', [key], {});\n",
              "          } catch (error) {\n",
              "            console.error('Error during call to suggestCharts:', error);\n",
              "          }\n",
              "          quickchartButtonEl.classList.remove('colab-df-spinner');\n",
              "          quickchartButtonEl.classList.add('colab-df-quickchart-complete');\n",
              "        }\n",
              "        (() => {\n",
              "          let quickchartButtonEl =\n",
              "            document.querySelector('#df-5d6ff0e7-6439-4cab-b68d-fca8f7462a58 button');\n",
              "          quickchartButtonEl.style.display =\n",
              "            google.colab.kernel.accessAllowed ? 'block' : 'none';\n",
              "        })();\n",
              "      </script>\n",
              "    </div>\n",
              "\n",
              "  <div id=\"id_485c173e-8344-48e6-a288-ca01f6d7df28\">\n",
              "    <style>\n",
              "      .colab-df-generate {\n",
              "        background-color: #E8F0FE;\n",
              "        border: none;\n",
              "        border-radius: 50%;\n",
              "        cursor: pointer;\n",
              "        display: none;\n",
              "        fill: #1967D2;\n",
              "        height: 32px;\n",
              "        padding: 0 0 0 0;\n",
              "        width: 32px;\n",
              "      }\n",
              "\n",
              "      .colab-df-generate:hover {\n",
              "        background-color: #E2EBFA;\n",
              "        box-shadow: 0px 1px 2px rgba(60, 64, 67, 0.3), 0px 1px 3px 1px rgba(60, 64, 67, 0.15);\n",
              "        fill: #174EA6;\n",
              "      }\n",
              "\n",
              "      [theme=dark] .colab-df-generate {\n",
              "        background-color: #3B4455;\n",
              "        fill: #D2E3FC;\n",
              "      }\n",
              "\n",
              "      [theme=dark] .colab-df-generate:hover {\n",
              "        background-color: #434B5C;\n",
              "        box-shadow: 0px 1px 3px 1px rgba(0, 0, 0, 0.15);\n",
              "        filter: drop-shadow(0px 1px 2px rgba(0, 0, 0, 0.3));\n",
              "        fill: #FFFFFF;\n",
              "      }\n",
              "    </style>\n",
              "    <button class=\"colab-df-generate\" onclick=\"generateWithVariable('pd_result')\"\n",
              "            title=\"Generate code using this dataframe.\"\n",
              "            style=\"display:none;\">\n",
              "\n",
              "  <svg xmlns=\"http://www.w3.org/2000/svg\" height=\"24px\"viewBox=\"0 0 24 24\"\n",
              "       width=\"24px\">\n",
              "    <path d=\"M7,19H8.4L18.45,9,17,7.55,7,17.6ZM5,21V16.75L18.45,3.32a2,2,0,0,1,2.83,0l1.4,1.43a1.91,1.91,0,0,1,.58,1.4,1.91,1.91,0,0,1-.58,1.4L9.25,21ZM18.45,9,17,7.55Zm-12,3A5.31,5.31,0,0,0,4.9,8.1,5.31,5.31,0,0,0,1,6.5,5.31,5.31,0,0,0,4.9,4.9,5.31,5.31,0,0,0,6.5,1,5.31,5.31,0,0,0,8.1,4.9,5.31,5.31,0,0,0,12,6.5,5.46,5.46,0,0,0,6.5,12Z\"/>\n",
              "  </svg>\n",
              "    </button>\n",
              "    <script>\n",
              "      (() => {\n",
              "      const buttonEl =\n",
              "        document.querySelector('#id_485c173e-8344-48e6-a288-ca01f6d7df28 button.colab-df-generate');\n",
              "      buttonEl.style.display =\n",
              "        google.colab.kernel.accessAllowed ? 'block' : 'none';\n",
              "\n",
              "      buttonEl.onclick = () => {\n",
              "        google.colab.notebook.generateWithVariable('pd_result');\n",
              "      }\n",
              "      })();\n",
              "    </script>\n",
              "  </div>\n",
              "\n",
              "    </div>\n",
              "  </div>\n"
            ],
            "application/vnd.google.colaboratory.intrinsic+json": {
              "type": "dataframe",
              "variable_name": "pd_result",
              "summary": "{\n  \"name\": \"pd_result\",\n  \"rows\": 10,\n  \"fields\": [\n    {\n      \"column\": \"dataset\",\n      \"properties\": {\n        \"dtype\": \"category\",\n        \"num_unique_values\": 1,\n        \"samples\": [\n          \"CIFAR-10\"\n        ],\n        \"semantic_type\": \"\",\n        \"description\": \"\"\n      }\n    },\n    {\n      \"column\": \"attack\",\n      \"properties\": {\n        \"dtype\": \"category\",\n        \"num_unique_values\": 3,\n        \"samples\": [\n          \"FGSM\"\n        ],\n        \"semantic_type\": \"\",\n        \"description\": \"\"\n      }\n    },\n    {\n      \"column\": \"attacked_model\",\n      \"properties\": {\n        \"dtype\": \"category\",\n        \"num_unique_values\": 2,\n        \"samples\": [\n          \"vgg16_bn_cifar10\"\n        ],\n        \"semantic_type\": \"\",\n        \"description\": \"\"\n      }\n    },\n    {\n      \"column\": \"evaluated_model\",\n      \"properties\": {\n        \"dtype\": \"category\",\n        \"num_unique_values\": 2,\n        \"samples\": [\n          \"vgg16_bn_cifar10\"\n        ],\n        \"semantic_type\": \"\",\n        \"description\": \"\"\n      }\n    },\n    {\n      \"column\": \"accuracy\",\n      \"properties\": {\n        \"dtype\": \"number\",\n        \"std\": 35.703252263935596,\n        \"min\": 0.0,\n        \"max\": 96.0,\n        \"num_unique_values\": 10,\n        \"samples\": [\n          94.0\n        ],\n        \"semantic_type\": \"\",\n        \"description\": \"\"\n      }\n    },\n    {\n      \"column\": \"is_transferred\",\n      \"properties\": {\n        \"dtype\": \"boolean\",\n        \"num_unique_values\": 2,\n        \"samples\": [\n          true\n        ],\n        \"semantic_type\": \"\",\n        \"description\": \"\"\n      }\n    }\n  ]\n}"
            }
          },
          "metadata": {},
          "execution_count": 87
        }
      ]
    },
    {
      "cell_type": "code",
      "source": [
        "pd_result['attack_type'] = pd_result.apply(\n",
        "    lambda row: f\"{row['attack']} ({'transfer' if row['is_transferred'] else 'direct'})\", axis=1\n",
        ")\n",
        "\n",
        "desired_attack_order = ['None', 'FGSM', 'I-FGSM']\n",
        "pd_result['attack'] = pd.Categorical(pd_result['attack'], categories=desired_attack_order, ordered=True)\n",
        "desired_is_transferred_order = [True, False]\n",
        "pd_result['is_transferred'] = pd.Categorical(pd_result['is_transferred'], categories=desired_is_transferred_order, ordered=True)\n",
        "\n",
        "# Create the plot\n",
        "plot = (\n",
        "    pn.ggplot(pd_result)\n",
        "    + pn.aes(\n",
        "        x='evaluated_model',\n",
        "        y='accuracy',\n",
        "        fill='attack',\n",
        "        alpha='is_transferred',\n",
        "        linetype='is_transferred'  # Optional: linetype distinguishes transferred attacks\n",
        "    )\n",
        "    + pn.geom_bar(stat='identity', position='dodge', color='black')\n",
        "    + pn.labs(\n",
        "        title='Accuracy of Models on Adversarial Attacks',\n",
        "        x='Evaluated Model',\n",
        "        y='Accuracy (%)',\n",
        "        fill='Attack',\n",
        "        alpha='Transfer',\n",
        "        linetype='Transfer'\n",
        "    )\n",
        "    + pn.scale_linetype_manual(values=['dashed', 'solid'])\n",
        "    + pn.scale_alpha_manual(values={True: 0.4, False: 1.0})\n",
        "    + pn.theme(\n",
        "        axis_text_x=pn.element_text(rotation=45, hjust=1)\n",
        "    )\n",
        "    #+ pn.facet_wrap('~is_transferred')\n",
        ")\n",
        "\n",
        "# Display the plot\n",
        "plot"
      ],
      "metadata": {
        "colab": {
          "base_uri": "https://localhost:8080/",
          "height": 497
        },
        "id": "2xLg7NVBTZgQ",
        "outputId": "cb2f09fa-f45b-48e1-b82f-0387f2101f4f"
      },
      "execution_count": 97,
      "outputs": [
        {
          "output_type": "display_data",
          "data": {
            "image/png": "[encoded data removed]"
          },
          "metadata": {
            "image/png": {
              "width": 640,
              "height": 480
            }
          }
        }
      ]
    }
  ]
}